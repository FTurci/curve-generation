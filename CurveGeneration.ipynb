{
 "cells": [
  {
   "cell_type": "markdown",
   "id": "7cad2d7d-3dfc-4ba3-bccc-caea860cd778",
   "metadata": {},
   "source": [
    "# Random interfaces\n",
    "\n",
    "The final result of Rob's calculation is that an interface should obey the probability distribution\n",
    "\n",
    "$$P(\\rm curve)\\propto \\Pi_{n=1}^K \\exp\\left[\\dfrac{\\pi^2\\gamma}{8 R\\phi T}a_n (n^2-1)\\right]$$\n",
    "\n",
    "Tis should provide a recipe to generate \n",
    "\n",
    "$$r(\\theta) = R+ \\sum_{n=1}^K a_n \\sin\\left(\\dfrac{n\\pi}{2\\phi}(\\theta+\\phi)\\right)$$\n",
    "\n",
    "Here is a simple implementation."
   ]
  },
  {
   "cell_type": "code",
   "execution_count": 114,
   "id": "613750f4-fdbc-4517-8f20-ce4640df3b0d",
   "metadata": {},
   "outputs": [],
   "source": [
    "import numpy as np\n",
    "\n",
    "\n",
    "def generate_curve(R = 1.0, energy = 1.0, phi = np.pi/2., K = 100,ntheta = 50):\n",
    "    \"\"\"\n",
    "    Generate a random interface.\n",
    "    \n",
    "    Parameteres:\n",
    "        R: radius\n",
    "        energy: gamma/T\n",
    "        phi: half-angle\n",
    "        K: Fourier knots\n",
    "        ntheta: number of angular evaluations\n",
    "    \"\"\"\n",
    "    \n",
    "    ns = np.arange(2,K+1, dtype=int)\n",
    "    variances = 2./( np.pi**2*energy/(8*R*phi)*(ns**2-1))\n",
    "    stds = np.sqrt(variances)\n",
    "    # generate all coefficients n>=2\n",
    "    a2s  = np.random.normal(np.zeros(K-1),stds)\n",
    "\n",
    "    a1 = 0\n",
    "    a = np.concatenate([[a1],a2s]) \n",
    "    n = np.concatenate([[1],ns]) \n",
    "    #  sample n-2 coefficients\n",
    "    assert len(a)==K, \"Incorrect lengths\"\n",
    "    \n",
    "    # generate theta range\n",
    "    theta = np.linspace(-phi,phi,ntheta)\n",
    "    # calculate sine argument\n",
    "    prod = np.multiply.outer((theta+phi),np.pi*n/(2*phi))\n",
    "    r = np.ones(ntheta)*R+(a*np.sin(prod)).sum(axis=1)\n",
    "    \n",
    "    #impose boundaries\n",
    "    r[0]=r[-1] = 0\n",
    "    # get Cartesian coordinates\n",
    "    x = r*np.cos(theta)\n",
    "    y = r*np.sin(theta)\n",
    "    return x, y,r,theta"
   ]
  },
  {
   "cell_type": "markdown",
   "id": "0b282157-0958-42c7-8dff-136ef99fd0d2",
   "metadata": {},
   "source": [
    "We then generate some paths"
   ]
  },
  {
   "cell_type": "code",
   "execution_count": null,
   "id": "51dba4b6",
   "metadata": {},
   "outputs": [
    {
     "name": "stderr",
     "output_type": "stream",
     "text": [
      "  9%|█████▋                                                         | 45/500 [00:01<00:17, 26.20it/s]"
     ]
    }
   ],
   "source": [
    "## import matplotlib.pyplot as plt\n",
    "from shapely.geometry import Polygon\n",
    "import matplotlib.path as mpltPath\n",
    "import tqdm \n",
    "\n",
    "areas = []\n",
    "rhos = []\n",
    "fig,ax = plt.subplots(1,4, figsize=(16,5))\n",
    "dx = dy = 0.02\n",
    "xlo = 0.0\n",
    "xhi = 1.35\n",
    "ylo =  -1.2\n",
    "yhi = 1.2\n",
    "gridx,gridy = np.mgrid[xlo:xhi:dx,ylo:yhi:dy]\n",
    "\n",
    "for k in tqdm.tqdm(range(500)):\n",
    "    x,y,r,theta  = generate_curve(phi= np.pi/4, energy = 100, K=1000, ntheta=1000)\n",
    "    ax[0].plot(x,y)\n",
    "    shape = Polygon([(xx,yy) for xx,yy in zip(x,y)])\n",
    "    areas.append(shape.area)\n",
    "    \n",
    "    #use faster matplotlib function to check grid\n",
    "    polygon = np.array([x,y]).T\n",
    "    path = mpltPath.Path(polygon)\n",
    "    points = np.array([gridx.ravel(),gridy.ravel()]).T\n",
    "    contained = path.contains_points(points)\n",
    "    rhos.append(contained.astype(np.float32).reshape(gridx.shape))\n",
    "    # second estimate of the area from the grid\n",
    "    area_from_ratio = contained.sum()/len(contained)*(xhi-xlo)*(yhi-ylo)\n",
    "#     print(shape.area, area_from_ratio)\n",
    "    \n",
    "#     \n",
    "ax[0].axis('equal');\n",
    "ax[1].hist(areas);\n",
    "ax[1].set_xlabel('area')\n",
    "ax[2].imshow(np.mean(rhos,axis=0).T, origin='lower')\n",
    "ax[3].imshow(np.var(rhos,axis=0).T, origin='lower', cmap=plt.cm.plasma)"
   ]
  },
  {
   "cell_type": "code",
   "execution_count": 80,
   "id": "a8f39f9a",
   "metadata": {},
   "outputs": [
    {
     "data": {
      "text/plain": [
       "<Figure size 432x288 with 0 Axes>"
      ]
     },
     "metadata": {},
     "output_type": "display_data"
    }
   ],
   "source": [
    "plt.savefig(\"one_thousands_paths.png\")"
   ]
  },
  {
   "cell_type": "code",
   "execution_count": null,
   "id": "98e34426",
   "metadata": {},
   "outputs": [],
   "source": []
  }
 ],
 "metadata": {
  "kernelspec": {
   "display_name": "Python 3 (ipykernel)",
   "language": "python",
   "name": "python3"
  },
  "language_info": {
   "codemirror_mode": {
    "name": "ipython",
    "version": 3
   },
   "file_extension": ".py",
   "mimetype": "text/x-python",
   "name": "python",
   "nbconvert_exporter": "python",
   "pygments_lexer": "ipython3",
   "version": "3.8.11"
  }
 },
 "nbformat": 4,
 "nbformat_minor": 5
}
