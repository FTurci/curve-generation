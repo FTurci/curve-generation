{
 "cells": [
  {
   "cell_type": "markdown",
   "id": "7cad2d7d-3dfc-4ba3-bccc-caea860cd778",
   "metadata": {},
   "source": [
    "# Random interfaces\n",
    "\n",
    "The final result of Rob's calculation is that an interface should obey the probability distribution\n",
    "\n",
    "$$P(\\rm curve)\\propto \\Pi_{n=1}^K \\exp\\left[\\dfrac{\\pi^2\\gamma}{8 R\\phi T}a_n (n^2-1)\\right]$$\n",
    "\n",
    "Tis should provide a recipe to generate \n",
    "\n",
    "$$r(\\theta) = R+ \\sum_{n=1}^K a_n \\sin\\left(\\dfrac{n\\pi}{2\\phi}(\\theta+\\phi)\\right)$$\n",
    "\n",
    "Here is a simple implementation."
   ]
  },
  {
   "cell_type": "code",
   "execution_count": 30,
   "id": "613750f4-fdbc-4517-8f20-ce4640df3b0d",
   "metadata": {},
   "outputs": [],
   "source": [
    "import numpy as np\n",
    "\n",
    "def generate_curve(R = 1.0, energy = 1.0, phi = np.pi/2., K = 100,ntheta = 50):\n",
    "    \"\"\"\n",
    "    Generate a random interface.\n",
    "    \n",
    "    Parameteres:\n",
    "        R: radius\n",
    "        energy: gamma/T\n",
    "        phi: half-angle\n",
    "        K: Fourier knots\n",
    "        ntheta: number of angular evaluations\n",
    "    \"\"\"\n",
    "    \n",
    "    ns = np.arange(2,K+1, dtype=int)\n",
    "    variances = 2./( np.pi**2*energy/(8*R*phi)*(ns**2-1))\n",
    "    stds = np.sqrt(variances)\n",
    "    # generate all coefficients n>=2\n",
    "    a2s  = np.array([np.random.normal(0,stds[i]) for i in range(K-1)])\n",
    "    \n",
    "    a1 = - np.sum(a2s)\n",
    "    a = np.concatenate([[a1],a2s]) \n",
    "    n = np.concatenate([[1],ns]) \n",
    "    #  sample n-2 coefficients\n",
    "    assert len(a)==K, \"Incorrect lengths\"\n",
    "    \n",
    "    # generate theta range\n",
    "    theta = np.linspace(-phi,phi,ntheta)\n",
    "    # calculate sine argument\n",
    "    prod = np.multiply.outer((theta+phi),n/(2*phi))\n",
    "    r = np.ones(ntheta)*R+(a*np.sin(prod)).sum(axis=1)\n",
    "\n",
    "    #impose boundaries\n",
    "    r[0]=r[-1] = 0\n",
    "    # get Cartesian coordinates\n",
    "    x = r*np.cos(theta)\n",
    "    y = r*np.sin(theta)\n",
    "    return x, y,r,theta\n",
    "    # return prod, a"
   ]
  },
  {
   "cell_type": "markdown",
   "id": "0b282157-0958-42c7-8dff-136ef99fd0d2",
   "metadata": {},
   "source": [
    "We then generate some paths"
   ]
  },
  {
   "cell_type": "code",
   "execution_count": null,
   "id": "b9864100",
   "metadata": {},
   "outputs": [],
   "source": [
    "import matplotlib.pyplot as plt\n",
    "from shapely.geometry import Polygon\n",
    "\n",
    "areas = []\n",
    "fig,ax = plt.subplots(1,2)\n",
    "for k in range(20):\n",
    "    x,y,r,theta  = generate_curve(phi= np.pi/4, energy = 100, K=1000)\n",
    "    ax[0].plot(x,y)\n",
    "    shape = Polygon([(xx,yy) for xx,yy in zip(x,y)])\n",
    "    areas.append(shape.area)\n",
    "    print(\"Area\",shape.area)\n",
    "ax[0].axis('equal');\n",
    "ax[1].hist(areas);\n",
    "ax[1].set_xlabel('area')"
   ]
  },
  {
   "cell_type": "markdown",
   "id": "1ab34872",
   "metadata": {},
   "source": [
    "We can check that shapely is measuring the correct area."
   ]
  },
  {
   "cell_type": "code",
   "execution_count": 33,
   "id": "238e5616-810c-4608-8ddb-a9e9e5547611",
   "metadata": {},
   "outputs": [
    {
     "name": "stderr",
     "output_type": "stream",
     "text": [
      "/Users/francesco/.pyenv/versions/3.8.11/lib/python3.8/site-packages/descartes/patch.py:62: ShapelyDeprecationWarning: The array interface is deprecated and will no longer work in Shapely 2.0. Convert the '.coords' to a numpy array instead.\n",
      "  vertices = concatenate([\n"
     ]
    },
    {
     "data": {
      "image/png": "[encoded data removed]",
      "text/plain": [
       "<Figure size 432x288 with 1 Axes>"
      ]
     },
     "metadata": {
      "needs_background": "light"
     },
     "output_type": "display_data"
    }
   ],
   "source": [
    "from descartes.patch import PolygonPatch\n",
    "fig,ax = plt.subplots()\n",
    "patch = PolygonPatch(shape, alpha=0.5, zorder=2)\n",
    "ax.add_patch(patch)\n",
    "ax.axis('equal');"
   ]
  }
 ],
 "metadata": {
  "kernelspec": {
   "display_name": "Python 3 (ipykernel)",
   "language": "python",
   "name": "python3"
  },
  "language_info": {
   "codemirror_mode": {
    "name": "ipython",
    "version": 3
   },
   "file_extension": ".py",
   "mimetype": "text/x-python",
   "name": "python",
   "nbconvert_exporter": "python",
   "pygments_lexer": "ipython3",
   "version": "3.8.11"
  }
 },
 "nbformat": 4,
 "nbformat_minor": 5
}
